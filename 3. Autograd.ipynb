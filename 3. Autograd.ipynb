{
 "cells": [
  {
   "cell_type": "code",
   "execution_count": 5,
   "id": "91045e2b",
   "metadata": {},
   "outputs": [
    {
     "name": "stdout",
     "output_type": "stream",
     "text": [
      "tensor([0.6504, 0.7522, 0.8801], requires_grad=True)\n",
      "tensor([2.6504, 2.7522, 2.8801], grad_fn=<AddBackward0>)\n",
      "tensor([14.0489, 15.1497, 16.5901], grad_fn=<MulBackward0>)\n",
      "tensor(15.2629, grad_fn=<MeanBackward0>)\n",
      "tensor([3.5338, 3.6697, 3.8402])\n"
     ]
    }
   ],
   "source": [
    "import torch\n",
    "\n",
    "x = torch.rand(3, requires_grad=True)\n",
    "print(x)\n",
    "\n",
    "y = x+2 # create a computational graph\n",
    "print(y)\n",
    "\n",
    "z = y*y*2\n",
    "print(z)\n",
    "\n",
    "z = z.mean()\n",
    "print(z)\n",
    "\n",
    "z.backward() #dz/dx\n",
    "print(x.grad)"
   ]
  },
  {
   "cell_type": "markdown",
   "id": "93d9fe9c",
   "metadata": {},
   "source": [
    "- if the last operation produce a scalar the backward() will fail\n",
    "- in that case we can pass a similar size vector to the backward fucntion to product the gradients\n",
    "    - z.backward(v)\n",
    "    - the v should be of size z\n"
   ]
  },
  {
   "cell_type": "markdown",
   "id": "a8033e32",
   "metadata": {},
   "source": [
    "## Prevent pytorch from tracking a variable\n",
    "- 3 methods\n",
    "    - x.requires_grad_(False)\n",
    "    - s.detach()\n",
    "    - with torch.no_grad():"
   ]
  },
  {
   "cell_type": "code",
   "execution_count": 6,
   "id": "a64bf5c7",
   "metadata": {},
   "outputs": [
    {
     "name": "stdout",
     "output_type": "stream",
     "text": [
      "tensor([0.4276, 0.4825, 0.5585], requires_grad=True)\n",
      "tensor([0.4276, 0.4825, 0.5585])\n"
     ]
    }
   ],
   "source": [
    "x = torch.rand(3, requires_grad=True)\n",
    "print(x)\n",
    "x.requires_grad_(False)\n",
    "print(x)"
   ]
  },
  {
   "cell_type": "code",
   "execution_count": 8,
   "id": "15a2aef6",
   "metadata": {},
   "outputs": [
    {
     "name": "stdout",
     "output_type": "stream",
     "text": [
      "tensor([0.1851, 0.3830, 0.6246], requires_grad=True)\n",
      "tensor([0.1851, 0.3830, 0.6246])\n"
     ]
    }
   ],
   "source": [
    "x = torch.rand(3, requires_grad=True)\n",
    "print(x)\n",
    "x = x.detach()\n",
    "print(x)"
   ]
  },
  {
   "cell_type": "code",
   "execution_count": 19,
   "id": "70d01956",
   "metadata": {},
   "outputs": [
    {
     "name": "stdout",
     "output_type": "stream",
     "text": [
      "tensor([0.1275, 0.8010, 0.6613], requires_grad=True)\n",
      "tensor([3., 3., 3.])\n"
     ]
    }
   ],
   "source": [
    "x = torch.rand(3, requires_grad=True)\n",
    "print(x)\n",
    "\n",
    "y = x*3\n",
    "\n",
    "with torch.no_grad():\n",
    "    y *= y\n",
    "\n",
    "z = y.sum()\n",
    "z.backward()\n",
    "print(x.grad)"
   ]
  },
  {
   "cell_type": "markdown",
   "id": "feabdc3c",
   "metadata": {},
   "source": [
    "## gradients will accumilate over the period"
   ]
  },
  {
   "cell_type": "code",
   "execution_count": 22,
   "id": "c3ef1d4f",
   "metadata": {},
   "outputs": [
    {
     "name": "stdout",
     "output_type": "stream",
     "text": [
      "tensor([3., 3., 3.])\n",
      "tensor([6., 6., 6.])\n",
      "tensor([9., 9., 9.])\n"
     ]
    }
   ],
   "source": [
    "import torch\n",
    "\n",
    "weights = torch.ones(3, requires_grad=True)\n",
    "\n",
    "for epoch in range(3):\n",
    "    model_out = (weights * 3).sum()\n",
    "    model_out.backward()\n",
    "    \n",
    "    print(weights.grad)"
   ]
  },
  {
   "cell_type": "markdown",
   "id": "fad11e48",
   "metadata": {},
   "source": [
    "- hence at the end of the loop we have to clear the grads"
   ]
  },
  {
   "cell_type": "code",
   "execution_count": 23,
   "id": "ea962c60",
   "metadata": {},
   "outputs": [
    {
     "name": "stdout",
     "output_type": "stream",
     "text": [
      "tensor([3., 3., 3.])\n",
      "tensor([3., 3., 3.])\n",
      "tensor([3., 3., 3.])\n"
     ]
    }
   ],
   "source": [
    "import torch\n",
    "\n",
    "weights = torch.ones(3, requires_grad=True)\n",
    "\n",
    "for epoch in range(3):\n",
    "    model_out = (weights * 3).sum()\n",
    "    model_out.backward()\n",
    "    \n",
    "    print(weights.grad)\n",
    "    weights.grad.zero_() # empty the gradients"
   ]
  },
  {
   "cell_type": "code",
   "execution_count": null,
   "id": "28c8117d",
   "metadata": {},
   "outputs": [],
   "source": [
    "import torch\n",
    "\n",
    "weights = torch.ones(4, requires_grad=True)\n",
    "\n",
    "optimzier = torch.optim.SGD(weights, lr=0.001)\n",
    "optimizer.step() # optimize the weights\n",
    "optimizer.zero_grad() # clear the grads"
   ]
  }
 ],
 "metadata": {
  "kernelspec": {
   "display_name": "Python 3",
   "language": "python",
   "name": "python3"
  },
  "language_info": {
   "codemirror_mode": {
    "name": "ipython",
    "version": 3
   },
   "file_extension": ".py",
   "mimetype": "text/x-python",
   "name": "python",
   "nbconvert_exporter": "python",
   "pygments_lexer": "ipython3",
   "version": "3.6.2"
  }
 },
 "nbformat": 4,
 "nbformat_minor": 5
}
