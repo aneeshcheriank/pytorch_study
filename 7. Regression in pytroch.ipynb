{
 "cells": [
  {
   "cell_type": "code",
   "execution_count": 2,
   "id": "7c4639ca",
   "metadata": {},
   "outputs": [],
   "source": [
    "import torch\n",
    "import torch.nn as nn\n",
    "import numpy as np\n",
    "from sklearn import datasets\n",
    "import matplotlib.pyplot as plt"
   ]
  },
  {
   "cell_type": "code",
   "execution_count": 15,
   "id": "cdd4edd8",
   "metadata": {},
   "outputs": [],
   "source": [
    "lr = 0.1\n",
    "EPOCHS = 100"
   ]
  },
  {
   "cell_type": "code",
   "execution_count": 22,
   "id": "4d10ec73",
   "metadata": {},
   "outputs": [
    {
     "name": "stdout",
     "output_type": "stream",
     "text": [
      "epoch: 10, loss = 572.0665\n",
      "epoch: 20, loss = 340.7082\n",
      "epoch: 30, loss = 332.8503\n",
      "epoch: 40, loss = 332.5775\n",
      "epoch: 50, loss = 332.5679\n",
      "epoch: 60, loss = 332.5676\n",
      "epoch: 70, loss = 332.5676\n",
      "epoch: 80, loss = 332.5675\n",
      "epoch: 90, loss = 332.5676\n",
      "epoch: 100, loss = 332.5676\n"
     ]
    },
    {
     "data": {
      "image/png": "[encoded data removed]",
      "text/plain": [
       "<Figure size 720x432 with 1 Axes>"
      ]
     },
     "metadata": {
      "needs_background": "light"
     },
     "output_type": "display_data"
    }
   ],
   "source": [
    "# data\n",
    "X, y = datasets.make_regression(\n",
    "    n_samples=100, n_features=1,\n",
    "    noise = 20, random_state=1\n",
    ")\n",
    "\n",
    "X = torch.from_numpy(X.astype(np.float32))\n",
    "y = torch.from_numpy(y.astype(np.float32)).reshape((-1, 1)) \n",
    "# to reshape to a column vector\n",
    "\n",
    "n_samples, n_features = X.shape\n",
    "\n",
    "# 1. model\n",
    "model = nn.Linear(\n",
    "    in_features = n_features, out_features=1\n",
    ")\n",
    "\n",
    "# 2. optimizer & loss\n",
    "loss = nn.MSELoss()\n",
    "optimizer = torch.optim.SGD(\n",
    "    model.parameters(), \n",
    "    lr=lr\n",
    ")\n",
    "\n",
    "# 3. training loop\n",
    "for epoch in range(EPOCHS):\n",
    "    # forward pass and loss\n",
    "    y_pred = model(X)\n",
    "    l = loss(y_pred, y)\n",
    "    \n",
    "    # backward pass\n",
    "    l.backward()\n",
    "    \n",
    "    # weight update\n",
    "    optimizer.step()\n",
    "    \n",
    "    optimizer.zero_grad()\n",
    "    \n",
    "    if (epoch+1) % 10 == 0:\n",
    "        print(f'epoch: {epoch+1}, loss = {l.item():.4f}')\n",
    "        \n",
    "# plot\n",
    "predicted = model(X).detach().numpy() \n",
    "# need to remove from computational graph\n",
    "\n",
    "plt.figure(figsize=(10, 6))\n",
    "plt.plot(X.numpy(), y.numpy(), 'ro')\n",
    "plt.plot(X.numpy(), predicted, 'b')\n",
    "plt.show()\n"
   ]
  },
  {
   "cell_type": "code",
   "execution_count": 11,
   "id": "83fda08c",
   "metadata": {},
   "outputs": [
    {
     "data": {
      "text/plain": [
       "torch.Size([100, 1])"
      ]
     },
     "execution_count": 11,
     "metadata": {},
     "output_type": "execute_result"
    }
   ],
   "source": [
    "y.shape"
   ]
  },
  {
   "cell_type": "code",
   "execution_count": 21,
   "id": "06adc014",
   "metadata": {},
   "outputs": [
    {
     "data": {
      "text/plain": [
       "MSELoss()"
      ]
     },
     "execution_count": 21,
     "metadata": {},
     "output_type": "execute_result"
    }
   ],
   "source": [
    "loss"
   ]
  },
  {
   "cell_type": "code",
   "execution_count": null,
   "id": "d2cdc978",
   "metadata": {},
   "outputs": [],
   "source": []
  }
 ],
 "metadata": {
  "kernelspec": {
   "display_name": "Python 3",
   "language": "python",
   "name": "python3"
  },
  "language_info": {
   "codemirror_mode": {
    "name": "ipython",
    "version": 3
   },
   "file_extension": ".py",
   "mimetype": "text/x-python",
   "name": "python",
   "nbconvert_exporter": "python",
   "pygments_lexer": "ipython3",
   "version": "3.6.2"
  }
 },
 "nbformat": 4,
 "nbformat_minor": 5
}
