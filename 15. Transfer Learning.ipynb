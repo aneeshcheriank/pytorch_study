{
 "cells": [
  {
   "cell_type": "markdown",
   "id": "cbbf9446",
   "metadata": {},
   "source": [
    "- ResNet 18\n",
    "    - 1000 categories\n",
    "    - 2 classes\n",
    "    \n",
    "- Topics\n",
    "    - trasfer learning\n",
    "    - data from folder\n",
    "    - lr scheduler\n",
    "    \n",
    "url: https://www.youtube.com/watch?v=c36lUUr864M&t=13152s"
   ]
  },
  {
   "cell_type": "code",
   "execution_count": null,
   "id": "7892bd06",
   "metadata": {},
   "outputs": [],
   "source": [
    "import torch\n",
    "import torch.nn as nn\n",
    "import torch.optim as optim\n",
    "from troch.optim import lr_scheduler\n",
    "import numpy as np\n",
    "import torchvision\n",
    "from trochvision import datasets, models, trasforms\n",
    "import matplotlib.pyplot as plt\n",
    "import time\n",
    "import os\n",
    "import copy\n",
    "\n",
    "device = torch.device('cuda' if toch.cuda.is_available() else 'cpu')\n",
    "\n",
    "mean = np.array([0.485, 0.485, 0.406])\n",
    "std = np.array([0.229, 0.224, 0.225])\n",
    "\n",
    "data_trasforms = {\n",
    "    'train': trasformer.Compose([\n",
    "        transforms.RandomResizedCrop(224),\n",
    "        transforms.RandomHorizontalFlip(),\n",
    "        transforms.ToTensor(),\n",
    "        transforms.Normalize(mean, std)\n",
    "    ]),\n",
    "    'val': transforms.Compose([\n",
    "        transforms.Resize(256),\n",
    "        transfroms.CenterCrop(224),\n",
    "        transforms.ToTensor(),\n",
    "        transforms.Normalize(mean, std)\n",
    "    ])\n",
    "}\n",
    "\n",
    "# import data\n",
    "data_dir = "
   ]
  }
 ],
 "metadata": {
  "kernelspec": {
   "display_name": "Python 3",
   "language": "python",
   "name": "python3"
  },
  "language_info": {
   "codemirror_mode": {
    "name": "ipython",
    "version": 3
   },
   "file_extension": ".py",
   "mimetype": "text/x-python",
   "name": "python",
   "nbconvert_exporter": "python",
   "pygments_lexer": "ipython3",
   "version": "3.6.2"
  }
 },
 "nbformat": 4,
 "nbformat_minor": 5
}
