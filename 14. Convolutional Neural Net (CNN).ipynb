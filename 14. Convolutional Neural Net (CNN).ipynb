{
 "cells": [
  {
   "cell_type": "markdown",
   "id": "88ee627c",
   "metadata": {},
   "source": [
    "## Convolutional Neural Net\n",
    "- CFRA dataset\n",
    "    - 10 class of objects\n",
    "    \n",
    "- convolution\n",
    "    - convolutional filter\n",
    "    - pooling\n",
    "        - max\n",
    "        - average: reduce the size of the image"
   ]
  },
  {
   "cell_type": "code",
   "execution_count": 81,
   "id": "4f84a94a",
   "metadata": {},
   "outputs": [
    {
     "name": "stdout",
     "output_type": "stream",
     "text": [
      "Files already downloaded and verified\n",
      "epoch: 1/4 batch 1000/6250 loss=2.289154291152954\n",
      "epoch: 1/4 batch 2000/6250 loss=2.2451188564300537\n",
      "epoch: 1/4 batch 3000/6250 loss=2.2808167934417725\n",
      "epoch: 1/4 batch 4000/6250 loss=2.307161331176758\n",
      "epoch: 1/4 batch 5000/6250 loss=2.288994312286377\n",
      "epoch: 1/4 batch 6000/6250 loss=2.294752597808838\n",
      "epoch: 2/4 batch 1000/6250 loss=2.3351097106933594\n",
      "epoch: 2/4 batch 2000/6250 loss=2.3103585243225098\n",
      "epoch: 2/4 batch 3000/6250 loss=2.3388471603393555\n",
      "epoch: 2/4 batch 4000/6250 loss=2.3141510486602783\n",
      "epoch: 2/4 batch 5000/6250 loss=2.257997989654541\n",
      "epoch: 2/4 batch 6000/6250 loss=2.332366466522217\n",
      "epoch: 3/4 batch 1000/6250 loss=2.306548595428467\n",
      "epoch: 3/4 batch 2000/6250 loss=2.290867805480957\n",
      "epoch: 3/4 batch 3000/6250 loss=2.302588701248169\n",
      "epoch: 3/4 batch 4000/6250 loss=2.2870681285858154\n",
      "epoch: 3/4 batch 5000/6250 loss=2.321716785430908\n",
      "epoch: 3/4 batch 6000/6250 loss=2.2967896461486816\n",
      "epoch: 4/4 batch 1000/6250 loss=2.3404464721679688\n",
      "epoch: 4/4 batch 2000/6250 loss=2.316082000732422\n",
      "epoch: 4/4 batch 3000/6250 loss=2.304067850112915\n",
      "epoch: 4/4 batch 4000/6250 loss=2.286911964416504\n",
      "epoch: 4/4 batch 5000/6250 loss=2.3087494373321533\n",
      "epoch: 4/4 batch 6000/6250 loss=2.306180477142334\n",
      "accuracy = 0.02\n",
      "Accuracy of plane: 0.0%\n",
      "Accuracy of car: 0.0%\n",
      "Accuracy of bird: 0.0%\n",
      "Accuracy of cat: 0.0%\n",
      "Accuracy of deer: 0.0%\n",
      "Accuracy of dog: 100.0%\n",
      "Accuracy of frog: 0.0%\n",
      "Accuracy of hourse: 0.0%\n",
      "Accuracy of ship: 0.0%\n",
      "Accuracy of truck: 0.0%\n"
     ]
    }
   ],
   "source": [
    "import torch\n",
    "import torch.nn as nn\n",
    "import torch.nn.functional as F\n",
    "import torchvision\n",
    "import torchvision.transforms as transforms\n",
    "import matplotlib.pyplot as plt\n",
    "import numpy as np\n",
    "\n",
    "\n",
    "# device configruation\n",
    "device = torch.device('cuda' if torch.cuda.is_available() else 'cpu')\n",
    "\n",
    "# Hyperparameters\n",
    "EPOCHS = 4\n",
    "batch_size = 8\n",
    "learning_rate = 0.0001\n",
    "\n",
    "# dataset has PILImge Images of range [0, 1]\n",
    "# we trasnform them to tensor of range [-1, 1]\n",
    "transform = transforms.Compose([\n",
    "    transforms.ToTensor(),\n",
    "    transforms.Normalize((0.5, 0.5, 0.5), (0.5, 0.5, 0.5)) # how does this works?\n",
    "])\n",
    "\n",
    "train_dataset = torchvision.datasets.CIFAR10(\n",
    "    root='./data', train=True, download=True, transform=transform\n",
    ")\n",
    "test_dataset = torchvision.datasets.CIFAR10(\n",
    "    root='./data', train=False, transform=transform\n",
    ")\n",
    "train_loader = torch.utils.data.DataLoader(\n",
    "    train_dataset, batch_size=batch_size, shuffle=True\n",
    ")\n",
    "test_loader = torch.utils.data.DataLoader(\n",
    "    test_dataset, batch_size=batch_size, shuffle=False\n",
    ")\n",
    "\n",
    "classes = [\n",
    "    'plane', 'car', 'bird', 'cat', 'deer',\n",
    "    'dog', 'frog', 'hourse', 'ship', 'truck'\n",
    "]\n",
    "\n",
    "# implement conv net\n",
    "class ConvNet(nn.Module):\n",
    "    def __init__(self):\n",
    "        super(ConvNet, self).__init__()\n",
    "        self.conv1 = nn.Conv2d(3, 16, 5) # not specifing the image size\n",
    "        # only the channel (input channel, output channel, filter size)\n",
    "        self.pool = nn.MaxPool2d(2, 2)\n",
    "        self.conv2 = nn.Conv2d(16, 32, 5)\n",
    "        self.fc1 = nn.Linear(16*5*5, 128) # why 5*5 ?       \n",
    "        self.fc2 = nn.Linear(128, 64)\n",
    "        self.fc3 = nn.Linear(64, 10)\n",
    "    \n",
    "    def forward(self, x):\n",
    "        x = self.pool(F.relu(self.conv1(x)))\n",
    "        x = self.pool(F.relu(self.conv2(x)))\n",
    "        x = x.reshape(batch_size, -1)\n",
    "        x = F.relu(self.fc1(x))\n",
    "        x = F.relu(self.fc2(x))\n",
    "        x = self.fc3(x)\n",
    "        \n",
    "        return x\n",
    "    \n",
    "# model\n",
    "model = ConvNet().to(device)\n",
    "\n",
    "# loss and optimizer\n",
    "loss = nn.CrossEntropyLoss()\n",
    "optimizer = torch.optim.SGD(model.parameters(), lr=learning_rate)\n",
    "\n",
    "# trianing loop\n",
    "n_total_steps = len(train_loader)\n",
    "for epoch in range(EPOCHS):\n",
    "    for i, (images, labels) in enumerate(train_loader):\n",
    "        # original shape: [4, 3, 32, 32]\n",
    "        # input_layer: 3 input channels, 6 output channels, 5 kernal size\n",
    "        images = images.to(device)\n",
    "        labels = labels.to(device)\n",
    "\n",
    "        # forward path\n",
    "        output = model(image)\n",
    "        l = loss(output, labels)\n",
    "        \n",
    "        # zero gradients\n",
    "        optimizer.zero_grad()\n",
    "        \n",
    "        # backward path\n",
    "        l.backward()\n",
    "        \n",
    "        # update weights\n",
    "        optimizer.step()\n",
    "        \n",
    "        # print the training infromation\n",
    "        if (i+1) % 1000 == 0:\n",
    "            print(f'epoch: {epoch+1}/{EPOCHS} batch {i+1}/{n_total_steps} loss={l}')\n",
    "            \n",
    "            \n",
    "# evaluate the accuracy on testing data\n",
    "with torch.no_grad():\n",
    "    n_correct = 0\n",
    "    n_samples = 0\n",
    "    n_class_correct = [0 for i in range(10)]\n",
    "    n_class_samples = [0 for i in range(10)]\n",
    "    for images, labels in test_loader:\n",
    "        images = images.to(device)\n",
    "        labels = labels.to(device)\n",
    "        output = model(image)\n",
    "        \n",
    "        _, prediction = torch.max(output, 1)\n",
    "        n_samples += images.shape[0]\n",
    "        n_correct = (labels == prediction).sum().item()\n",
    "        \n",
    "        for i in range(batch_size):\n",
    "            label = labels[i]\n",
    "            pred = prediction[i]\n",
    "            if label == pred:\n",
    "                n_class_correct[label] += 1\n",
    "            n_class_samples[label] += 1\n",
    "                \n",
    "        \n",
    "    acc = n_correct/n_samples * 100\n",
    "    print(f'accuracy = {acc}')\n",
    "    \n",
    "    for i in range(10):\n",
    "        acc = 100 * n_class_correct[i] / n_class_samples[i]\n",
    "        print(f'Accuracy of {classes[i]}: {acc}%')    \n"
   ]
  },
  {
   "cell_type": "markdown",
   "id": "02090471",
   "metadata": {},
   "source": [
    "## Convolution size calculation\n",
    "- size of the image after convolution\n",
    "- [(W-K+2P)/S]+1\n",
    "    - W: input image width\n",
    "    - K: kernel size\n",
    "    - P: padding\n",
    "    - S: stride\n",
    "  \n",
    "- example\n",
    "- input image of size 32x32\n",
    "- kernel size = 5\n",
    "- stride = 1\n",
    "- padding = 0\n",
    "\n",
    "- output image size = (32-5) + 1 = 28"
   ]
  },
  {
   "cell_type": "markdown",
   "id": "7a44ada8",
   "metadata": {},
   "source": [
    "## problems\n",
    "- test_loader.next(): is not working\n",
    "- next() available with an iter\n",
    "\n",
    "## Solution\n",
    "- need to convert the test_loader to a iterator\n",
    "    - iter(test_loader)\n",
    "- then we can use the next() attrib"
   ]
  },
  {
   "cell_type": "code",
   "execution_count": 53,
   "id": "787aae70",
   "metadata": {},
   "outputs": [],
   "source": [
    "# get a sample from the train data\n",
    "example = iter(train_loader)\n",
    "image, label = example.next()\n",
    "img = image[0]"
   ]
  },
  {
   "cell_type": "code",
   "execution_count": 54,
   "id": "8b13b377",
   "metadata": {},
   "outputs": [
    {
     "name": "stdout",
     "output_type": "stream",
     "text": [
      "image shape before convolution: torch.Size([3, 32, 32])\n",
      "image shape after convolution: torch.Size([1, 16, 28, 28])\n"
     ]
    }
   ],
   "source": [
    "print(f'image shape before convolution: {img.shape}')\n",
    "out = nn.Conv2d(3, 16, 5)(torch.unsqueeze(img, 0))\n",
    "print(f'image shape after convolution: {out.shape}')"
   ]
  },
  {
   "cell_type": "code",
   "execution_count": 64,
   "id": "5ba9ee7f",
   "metadata": {},
   "outputs": [
    {
     "name": "stderr",
     "output_type": "stream",
     "text": [
      "Clipping input data to the valid range for imshow with RGB data ([0..1] for floats or [0..255] for integers).\n",
      "Clipping input data to the valid range for imshow with RGB data ([0..1] for floats or [0..255] for integers).\n",
      "Clipping input data to the valid range for imshow with RGB data ([0..1] for floats or [0..255] for integers).\n",
      "Clipping input data to the valid range for imshow with RGB data ([0..1] for floats or [0..255] for integers).\n"
     ]
    },
    {
     "name": "stdout",
     "output_type": "stream",
     "text": [
      "torch.Size([8, 3, 32, 32]) torch.Size([8])\n"
     ]
    },
    {
     "ename": "IndexError",
     "evalue": "index 4 is out of bounds for axis 0 with size 4",
     "output_type": "error",
     "traceback": [
      "\u001b[1;31m---------------------------------------------------------------------------\u001b[0m",
      "\u001b[1;31mIndexError\u001b[0m                                Traceback (most recent call last)",
      "\u001b[1;32m<ipython-input-64-8d773b960782>\u001b[0m in \u001b[0;36m<module>\u001b[1;34m\u001b[0m\n\u001b[0;32m      6\u001b[0m \u001b[1;32mfor\u001b[0m \u001b[0mi\u001b[0m \u001b[1;32min\u001b[0m \u001b[0mrange\u001b[0m\u001b[1;33m(\u001b[0m\u001b[1;36m8\u001b[0m\u001b[1;33m)\u001b[0m\u001b[1;33m:\u001b[0m\u001b[1;33m\u001b[0m\u001b[0m\n\u001b[0;32m      7\u001b[0m     \u001b[0mplt\u001b[0m\u001b[1;33m.\u001b[0m\u001b[0msubplot\u001b[0m\u001b[1;33m(\u001b[0m\u001b[1;36m2\u001b[0m\u001b[1;33m,\u001b[0m \u001b[1;36m4\u001b[0m\u001b[1;33m,\u001b[0m \u001b[0mi\u001b[0m\u001b[1;33m+\u001b[0m\u001b[1;36m1\u001b[0m\u001b[1;33m)\u001b[0m\u001b[1;33m\u001b[0m\u001b[0m\n\u001b[1;32m----> 8\u001b[1;33m     \u001b[0mplt\u001b[0m\u001b[1;33m.\u001b[0m\u001b[0mimshow\u001b[0m\u001b[1;33m(\u001b[0m\u001b[0mnp\u001b[0m\u001b[1;33m.\u001b[0m\u001b[0mmoveaxis\u001b[0m\u001b[1;33m(\u001b[0m\u001b[0mimage\u001b[0m\u001b[1;33m.\u001b[0m\u001b[0mnumpy\u001b[0m\u001b[1;33m(\u001b[0m\u001b[1;33m)\u001b[0m\u001b[1;33m[\u001b[0m\u001b[0mi\u001b[0m\u001b[1;33m]\u001b[0m\u001b[1;33m,\u001b[0m \u001b[1;36m0\u001b[0m\u001b[1;33m,\u001b[0m \u001b[1;36m2\u001b[0m\u001b[1;33m)\u001b[0m\u001b[1;33m)\u001b[0m\u001b[1;33m\u001b[0m\u001b[0m\n\u001b[0m\u001b[0;32m      9\u001b[0m \u001b[0mplt\u001b[0m\u001b[1;33m.\u001b[0m\u001b[0mshow\u001b[0m\u001b[1;33m(\u001b[0m\u001b[1;33m)\u001b[0m\u001b[1;33m\u001b[0m\u001b[0m\n",
      "\u001b[1;31mIndexError\u001b[0m: index 4 is out of bounds for axis 0 with size 4"
     ]
    },
    {
     "data": {
      "image/png": "[encoded data removed]",
      "text/plain": [
       "<Figure size 432x288 with 5 Axes>"
      ]
     },
     "metadata": {
      "needs_background": "light"
     },
     "output_type": "display_data"
    }
   ],
   "source": [
    "# check all are working good\n",
    "example = iter(train_loader)\n",
    "samples, labels = example.next()\n",
    "print(samples.shape, labels.shape)\n",
    "\n",
    "for i in range(8):\n",
    "    plt.subplot(2, 4, i+1)\n",
    "    plt.imshow(np.moveaxis(image.numpy()[i], 0, 2))\n",
    "plt.show()"
   ]
  },
  {
   "cell_type": "code",
   "execution_count": 79,
   "id": "71582081",
   "metadata": {},
   "outputs": [
    {
     "name": "stdout",
     "output_type": "stream",
     "text": [
      "tensor([0, 0, 0, 0, 0, 0, 0, 0, 0, 0, 0, 0, 0, 0, 0, 0])\n",
      "tensor([3, 5, 3, 8, 3, 5, 1, 7])\n"
     ]
    }
   ],
   "source": [
    "with torch.no_grad():\n",
    "    _, out = torch.max(model(samples), 1)\n",
    "    print(out)\n",
    "    print(labels)"
   ]
  },
  {
   "cell_type": "code",
   "execution_count": null,
   "id": "1d1cdf25",
   "metadata": {},
   "outputs": [],
   "source": []
  }
 ],
 "metadata": {
  "kernelspec": {
   "display_name": "Python 3",
   "language": "python",
   "name": "python3"
  },
  "language_info": {
   "codemirror_mode": {
    "name": "ipython",
    "version": 3
   },
   "file_extension": ".py",
   "mimetype": "text/x-python",
   "name": "python",
   "nbconvert_exporter": "python",
   "pygments_lexer": "ipython3",
   "version": "3.6.2"
  }
 },
 "nbformat": 4,
 "nbformat_minor": 5
}
