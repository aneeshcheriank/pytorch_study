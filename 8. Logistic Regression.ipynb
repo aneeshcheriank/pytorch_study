{
 "cells": [
  {
   "cell_type": "code",
   "execution_count": 13,
   "id": "1d646bda",
   "metadata": {},
   "outputs": [
    {
     "name": "stdout",
     "output_type": "stream",
     "text": [
      "epoch: 10, loss = 0.7064\n",
      "epoch: 20, loss = 0.5649\n",
      "epoch: 30, loss = 0.4779\n",
      "epoch: 40, loss = 0.4197\n",
      "epoch: 50, loss = 0.3781\n",
      "epoch: 60, loss = 0.3468\n",
      "epoch: 70, loss = 0.3222\n",
      "epoch: 80, loss = 0.3023\n",
      "epoch: 90, loss = 0.2859\n",
      "epoch: 100, loss = 0.2719\n",
      "accuracy = 0.9298\n"
     ]
    }
   ],
   "source": [
    "import torch\n",
    "import torch.nn as nn\n",
    "import numpy as np\n",
    "from sklearn import datasets\n",
    "from sklearn.preprocessing import StandardScaler\n",
    "from sklearn.model_selection import train_test_split\n",
    "\n",
    "import matplotlib.pyplot as plt\n",
    "\n",
    "lr = 0.01\n",
    "EPOCHS = 100\n",
    "\n",
    "# data\n",
    "bc = datasets.load_breast_cancer()\n",
    "X, y = bc.data, bc.target\n",
    "\n",
    "n_samples, n_features = X.shape\n",
    "X_train, X_test, y_train, y_test = train_test_split(\n",
    "    X, y, \n",
    "    test_size=0.2, \n",
    "    random_state=141\n",
    ")\n",
    "\n",
    "sc = StandardScaler()\n",
    "x_train = sc.fit_transform(X_train)\n",
    "x_test = sc.transform(X_test)\n",
    "\n",
    "x_train = torch.from_numpy(x_train.astype(np.float32))\n",
    "x_test = torch.from_numpy(x_test.astype(np.float32))\n",
    "y_train = torch.from_numpy(y_train.astype(np.float32))\n",
    "y_test = torch.from_numpy(y_test.astype(np.float32))\n",
    "\n",
    "y_train = y_train.reshape((-1, 1))\n",
    "y_test = y_test.reshape((-1, 1))\n",
    "\n",
    "# model\n",
    "# f = wx + b, sigmoid at the end\n",
    "class LogisticRegression(nn.Module):\n",
    "    def __init__(self, n_input_features):\n",
    "        super(LogisticRegression, self).__init__()\n",
    "        \n",
    "        # layers\n",
    "        self.linear = nn.Linear(n_features, 1)\n",
    "        \n",
    "    def forward(self, x):\n",
    "        y_pred = torch.sigmoid(self.linear(x))\n",
    "        return y_pred\n",
    "    \n",
    "model = LogisticRegression(n_features)\n",
    "\n",
    "# loss and optimizer\n",
    "loss = nn.BCELoss()\n",
    "optimizer = torch.optim.SGD(model.parameters(), lr)\n",
    "\n",
    "# training\n",
    "for epoch in range(EPOCHS):\n",
    "    # 1. forward pass & loss\n",
    "    y_pred = model(x_train)\n",
    "    l = loss(y_pred, y_train)\n",
    "    \n",
    "    # 2. backward pass\n",
    "    l.backward()\n",
    "    \n",
    "    # 3. gradients\n",
    "    optimizer.step()\n",
    "    \n",
    "    # empty gradients\n",
    "    optimizer.zero_grad()\n",
    "    \n",
    "    if (epoch+1)%10 == 0:\n",
    "        print(f'epoch: {epoch + 1}, loss = {l.item():.4f}')\n",
    "\n",
    "with torch.no_grad():\n",
    "    y_predicted = model(x_test)\n",
    "    # need to convert to 0 or 1\n",
    "    y_predicted_class = y_predicted.round()\n",
    "    acc = y_predicted_class.eq(y_test).sum()/float(y_test.shape[0])\n",
    "    \n",
    "    print(f'accuracy = {acc:.4f}')"
   ]
  },
  {
   "cell_type": "code",
   "execution_count": 11,
   "id": "3b6ba2bd",
   "metadata": {},
   "outputs": [
    {
     "data": {
      "text/plain": [
       "torch.Size([114, 1])"
      ]
     },
     "execution_count": 11,
     "metadata": {},
     "output_type": "execute_result"
    }
   ],
   "source": [
    "y_test.size()"
   ]
  },
  {
   "cell_type": "code",
   "execution_count": null,
   "id": "be884020",
   "metadata": {},
   "outputs": [],
   "source": []
  }
 ],
 "metadata": {
  "kernelspec": {
   "display_name": "Python 3",
   "language": "python",
   "name": "python3"
  },
  "language_info": {
   "codemirror_mode": {
    "name": "ipython",
    "version": 3
   },
   "file_extension": ".py",
   "mimetype": "text/x-python",
   "name": "python",
   "nbconvert_exporter": "python",
   "pygments_lexer": "ipython3",
   "version": "3.6.2"
  }
 },
 "nbformat": 4,
 "nbformat_minor": 5
}
