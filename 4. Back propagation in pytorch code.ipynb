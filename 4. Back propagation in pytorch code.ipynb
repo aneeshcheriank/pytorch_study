{
 "cells": [
  {
   "cell_type": "code",
   "execution_count": 20,
   "id": "7e7006a6",
   "metadata": {},
   "outputs": [
    {
     "name": "stdout",
     "output_type": "stream",
     "text": [
      "prediction before training: f(5) = tensor([[0.1486]], grad_fn=<ReshapeAliasBackward0>)\n",
      "epoch: 1, w = tensor([[0.1325]], requires_grad=True), loss = 1.0125176906585693\n",
      "epoch: 2, w = tensor([[0.2299]], requires_grad=True), loss = 0.9096372723579407\n",
      "epoch: 3, w = tensor([[0.3223]], requires_grad=True), loss = 0.8172103762626648\n",
      "epoch: 4, w = tensor([[0.4098]], requires_grad=True), loss = 0.7341747879981995\n",
      "epoch: 5, w = tensor([[0.4927]], requires_grad=True), loss = 0.6595762968063354\n",
      "epoch: 6, w = tensor([[0.5714]], requires_grad=True), loss = 0.5925576686859131\n",
      "epoch: 7, w = tensor([[0.6459]], requires_grad=True), loss = 0.5323487520217896\n",
      "epoch: 8, w = tensor([[0.7165]], requires_grad=True), loss = 0.47825756669044495\n",
      "epoch: 9, w = tensor([[0.7835]], requires_grad=True), loss = 0.4296625554561615\n",
      "epoch: 10, w = tensor([[0.8469]], requires_grad=True), loss = 0.38600513339042664\n",
      "epoch: 11, w = tensor([[0.9071]], requires_grad=True), loss = 0.34678372740745544\n",
      "epoch: 12, w = tensor([[0.9641]], requires_grad=True), loss = 0.31154751777648926\n",
      "epoch: 13, w = tensor([[1.0181]], requires_grad=True), loss = 0.2798916697502136\n",
      "epoch: 14, w = tensor([[1.0693]], requires_grad=True), loss = 0.2514522671699524\n",
      "epoch: 15, w = tensor([[1.1179]], requires_grad=True), loss = 0.22590255737304688\n",
      "epoch: 16, w = tensor([[1.1639]], requires_grad=True), loss = 0.2029488980770111\n",
      "epoch: 17, w = tensor([[1.2075]], requires_grad=True), loss = 0.18232756853103638\n",
      "epoch: 18, w = tensor([[1.2489]], requires_grad=True), loss = 0.16380153596401215\n",
      "epoch: 19, w = tensor([[1.2880]], requires_grad=True), loss = 0.1471579223871231\n",
      "epoch: 20, w = tensor([[1.3252]], requires_grad=True), loss = 0.13220542669296265\n",
      "epoch: 21, w = tensor([[1.3604]], requires_grad=True), loss = 0.1187722459435463\n",
      "epoch: 22, w = tensor([[1.3938]], requires_grad=True), loss = 0.10670395195484161\n",
      "epoch: 23, w = tensor([[1.4254]], requires_grad=True), loss = 0.09586194157600403\n",
      "epoch: 24, w = tensor([[1.4554]], requires_grad=True), loss = 0.08612153679132462\n",
      "epoch: 25, w = tensor([[1.4838]], requires_grad=True), loss = 0.07737083733081818\n",
      "epoch: 26, w = tensor([[1.5107]], requires_grad=True), loss = 0.06950930505990982\n",
      "epoch: 27, w = tensor([[1.5362]], requires_grad=True), loss = 0.06244654580950737\n",
      "epoch: 28, w = tensor([[1.5604]], requires_grad=True), loss = 0.056101441383361816\n",
      "epoch: 29, w = tensor([[1.5833]], requires_grad=True), loss = 0.050401050597429276\n",
      "epoch: 30, w = tensor([[1.6051]], requires_grad=True), loss = 0.045279864221811295\n",
      "epoch: 31, w = tensor([[1.6257]], requires_grad=True), loss = 0.040679048746824265\n",
      "epoch: 32, w = tensor([[1.6452]], requires_grad=True), loss = 0.03654571250081062\n",
      "epoch: 33, w = tensor([[1.6637]], requires_grad=True), loss = 0.03283236175775528\n",
      "epoch: 34, w = tensor([[1.6813]], requires_grad=True), loss = 0.02949630655348301\n",
      "epoch: 35, w = tensor([[1.6979]], requires_grad=True), loss = 0.026499230414628983\n",
      "epoch: 36, w = tensor([[1.7136]], requires_grad=True), loss = 0.023806672543287277\n",
      "epoch: 37, w = tensor([[1.7286]], requires_grad=True), loss = 0.021387707442045212\n",
      "epoch: 38, w = tensor([[1.7427]], requires_grad=True), loss = 0.019214535132050514\n",
      "epoch: 39, w = tensor([[1.7562]], requires_grad=True), loss = 0.017262164503335953\n",
      "epoch: 40, w = tensor([[1.7689]], requires_grad=True), loss = 0.01550818420946598\n",
      "epoch: 41, w = tensor([[1.7809]], requires_grad=True), loss = 0.013932423666119576\n",
      "epoch: 42, w = tensor([[1.7924]], requires_grad=True), loss = 0.012516772374510765\n",
      "epoch: 43, w = tensor([[1.8032]], requires_grad=True), loss = 0.011244961060583591\n",
      "epoch: 44, w = tensor([[1.8135]], requires_grad=True), loss = 0.010102374479174614\n",
      "epoch: 45, w = tensor([[1.8232]], requires_grad=True), loss = 0.0090758902952075\n",
      "epoch: 46, w = tensor([[1.8324]], requires_grad=True), loss = 0.00815370213240385\n",
      "epoch: 47, w = tensor([[1.8412]], requires_grad=True), loss = 0.007325213402509689\n",
      "epoch: 48, w = tensor([[1.8494]], requires_grad=True), loss = 0.0065809087827801704\n",
      "epoch: 49, w = tensor([[1.8573]], requires_grad=True), loss = 0.005912232678383589\n",
      "epoch: 50, w = tensor([[1.8647]], requires_grad=True), loss = 0.005311502609401941\n",
      "epoch: 51, w = tensor([[1.8718]], requires_grad=True), loss = 0.0047718072310090065\n",
      "epoch: 52, w = tensor([[1.8785]], requires_grad=True), loss = 0.004286952782422304\n",
      "epoch: 53, w = tensor([[1.8848]], requires_grad=True), loss = 0.003851360408589244\n",
      "epoch: 54, w = tensor([[1.8908]], requires_grad=True), loss = 0.0034600291401147842\n",
      "epoch: 55, w = tensor([[1.8965]], requires_grad=True), loss = 0.0031084632501006126\n",
      "epoch: 56, w = tensor([[1.9019]], requires_grad=True), loss = 0.0027926184702664614\n",
      "epoch: 57, w = tensor([[1.9070]], requires_grad=True), loss = 0.002508868696168065\n",
      "epoch: 58, w = tensor([[1.9119]], requires_grad=True), loss = 0.002253946615383029\n",
      "epoch: 59, w = tensor([[1.9165]], requires_grad=True), loss = 0.0020249236840754747\n",
      "epoch: 60, w = tensor([[1.9208]], requires_grad=True), loss = 0.001819171360693872\n",
      "epoch: 61, w = tensor([[1.9250]], requires_grad=True), loss = 0.0016343302559107542\n",
      "epoch: 62, w = tensor([[1.9289]], requires_grad=True), loss = 0.0014682665932923555\n",
      "epoch: 63, w = tensor([[1.9326]], requires_grad=True), loss = 0.0013190784957259893\n",
      "epoch: 64, w = tensor([[1.9361]], requires_grad=True), loss = 0.0011850502341985703\n",
      "epoch: 65, w = tensor([[1.9394]], requires_grad=True), loss = 0.0010646390728652477\n",
      "epoch: 66, w = tensor([[1.9426]], requires_grad=True), loss = 0.0009564628708176315\n",
      "epoch: 67, w = tensor([[1.9456]], requires_grad=True), loss = 0.0008592781377956271\n",
      "epoch: 68, w = tensor([[1.9484]], requires_grad=True), loss = 0.0007719668792560697\n",
      "epoch: 69, w = tensor([[1.9511]], requires_grad=True), loss = 0.0006935297278687358\n",
      "epoch: 70, w = tensor([[1.9537]], requires_grad=True), loss = 0.0006230600411072373\n",
      "epoch: 71, w = tensor([[1.9561]], requires_grad=True), loss = 0.0005597523413598537\n",
      "epoch: 72, w = tensor([[1.9584]], requires_grad=True), loss = 0.0005028768791817129\n",
      "epoch: 73, w = tensor([[1.9606]], requires_grad=True), loss = 0.00045178079744800925\n",
      "epoch: 74, w = tensor([[1.9626]], requires_grad=True), loss = 0.00040587614057585597\n",
      "epoch: 75, w = tensor([[1.9646]], requires_grad=True), loss = 0.0003646350814960897\n",
      "epoch: 76, w = tensor([[1.9664]], requires_grad=True), loss = 0.0003275844210293144\n",
      "epoch: 77, w = tensor([[1.9682]], requires_grad=True), loss = 0.00029429871938191354\n",
      "epoch: 78, w = tensor([[1.9698]], requires_grad=True), loss = 0.00026439508656039834\n",
      "epoch: 79, w = tensor([[1.9714]], requires_grad=True), loss = 0.00023753137793391943\n",
      "epoch: 80, w = tensor([[1.9729]], requires_grad=True), loss = 0.0002133967645931989\n",
      "epoch: 81, w = tensor([[1.9743]], requires_grad=True), loss = 0.00019171347958035767\n",
      "epoch: 82, w = tensor([[1.9756]], requires_grad=True), loss = 0.00017223309259861708\n",
      "epoch: 83, w = tensor([[1.9769]], requires_grad=True), loss = 0.00015473240637220442\n",
      "epoch: 84, w = tensor([[1.9781]], requires_grad=True), loss = 0.00013901107013225555\n",
      "epoch: 85, w = tensor([[1.9793]], requires_grad=True), loss = 0.00012488638458307832\n",
      "epoch: 86, w = tensor([[1.9803]], requires_grad=True), loss = 0.000112196896225214\n",
      "epoch: 87, w = tensor([[1.9814]], requires_grad=True), loss = 0.00010079664934892207\n",
      "epoch: 88, w = tensor([[1.9823]], requires_grad=True), loss = 9.055545524461195e-05\n",
      "epoch: 89, w = tensor([[1.9833]], requires_grad=True), loss = 8.135360985761508e-05\n",
      "epoch: 90, w = tensor([[1.9841]], requires_grad=True), loss = 7.308770000236109e-05\n",
      "epoch: 91, w = tensor([[1.9850]], requires_grad=True), loss = 6.566141382791102e-05\n",
      "epoch: 92, w = tensor([[1.9857]], requires_grad=True), loss = 5.898988456465304e-05\n",
      "epoch: 93, w = tensor([[1.9865]], requires_grad=True), loss = 5.2995746955275536e-05\n",
      "epoch: 94, w = tensor([[1.9872]], requires_grad=True), loss = 4.761054151458666e-05\n",
      "epoch: 95, w = tensor([[1.9879]], requires_grad=True), loss = 4.277313200873323e-05\n",
      "epoch: 96, w = tensor([[1.9885]], requires_grad=True), loss = 3.842678779619746e-05\n",
      "epoch: 97, w = tensor([[1.9891]], requires_grad=True), loss = 3.452270175330341e-05\n",
      "epoch: 98, w = tensor([[1.9897]], requires_grad=True), loss = 3.101501351920888e-05\n",
      "epoch: 99, w = tensor([[1.9902]], requires_grad=True), loss = 2.7863483410328627e-05\n",
      "epoch: 100, w = tensor([[1.9907]], requires_grad=True), loss = 2.503230280126445e-05\n",
      "prediction before training: f(5) = tensor([[9.9536]], grad_fn=<ReshapeAliasBackward0>)\n"
     ]
    }
   ],
   "source": [
    "import torch\n",
    "\n",
    "X = torch.rand((20, 1))\n",
    "y = 2*X\n",
    "\n",
    "w = torch.rand((X.shape[1], 1), requires_grad=True)\n",
    "\n",
    "sample = torch.tensor([5], dtype=torch.float32)\n",
    "\n",
    "# model prediction\n",
    "def forward(x):\n",
    "    y = torch.matmul(x, w)\n",
    "    return torch.reshape(y, (-1, 1))\n",
    "\n",
    "# loss\n",
    "def loss(y, y_pred):\n",
    "    return ((y_pred - y)**2).mean()\n",
    "\n",
    "print(f'prediction before training: f(5) = {forward(sample)}')\n",
    "\n",
    "# Training\n",
    "lr = 0.1\n",
    "n_iters = 100\n",
    "\n",
    "for epoch in range(n_iters):\n",
    "    # prediction\n",
    "    y_pred = forward(X)\n",
    "    \n",
    "    # loss\n",
    "    l = loss(y, y_pred)\n",
    "    \n",
    "    # gradients\n",
    "    l.backward()\n",
    "    \n",
    "    # update weights\n",
    "    with torch.no_grad(): # switch off gradient tracking path\n",
    "        dw = w.grad\n",
    "        w -= dw * lr\n",
    "        \n",
    "    if epoch % 1 == 0:\n",
    "        print(f'epoch: {epoch + 1}, w = {w}, loss = {l}')\n",
    "        \n",
    "    w.grad.zero_()\n",
    "    \n",
    "print(f'prediction before training: f(5) = {forward(sample)}')"
   ]
  },
  {
   "cell_type": "code",
   "execution_count": 10,
   "id": "77f29d25",
   "metadata": {},
   "outputs": [
    {
     "data": {
      "text/plain": [
       "torch.Size([20, 1])"
      ]
     },
     "execution_count": 10,
     "metadata": {},
     "output_type": "execute_result"
    }
   ],
   "source": [
    "X.shape"
   ]
  },
  {
   "cell_type": "code",
   "execution_count": 14,
   "id": "5a6f0342",
   "metadata": {},
   "outputs": [
    {
     "data": {
      "text/plain": [
       "tensor([[0.9567]], requires_grad=True)"
      ]
     },
     "execution_count": 14,
     "metadata": {},
     "output_type": "execute_result"
    }
   ],
   "source": [
    "w"
   ]
  },
  {
   "cell_type": "code",
   "execution_count": null,
   "id": "d1f4f8fc",
   "metadata": {},
   "outputs": [],
   "source": []
  }
 ],
 "metadata": {
  "kernelspec": {
   "display_name": "Python 3",
   "language": "python",
   "name": "python3"
  },
  "language_info": {
   "codemirror_mode": {
    "name": "ipython",
    "version": 3
   },
   "file_extension": ".py",
   "mimetype": "text/x-python",
   "name": "python",
   "nbconvert_exporter": "python",
   "pygments_lexer": "ipython3",
   "version": "3.6.2"
  }
 },
 "nbformat": 4,
 "nbformat_minor": 5
}
