{
 "cells": [
  {
   "cell_type": "code",
   "execution_count": 1,
   "id": "8622a78b",
   "metadata": {},
   "outputs": [],
   "source": [
    "import torch\n",
    "import numpy as np"
   ]
  },
  {
   "cell_type": "code",
   "execution_count": 3,
   "id": "7b2c90c9",
   "metadata": {},
   "outputs": [
    {
     "name": "stdout",
     "output_type": "stream",
     "text": [
      "tensor([5.9694e-39, 9.2755e-39, 1.0561e-38])\n"
     ]
    }
   ],
   "source": [
    "# empty tensor\n",
    "x = torch.empty(3)\n",
    "print(x)"
   ]
  },
  {
   "cell_type": "code",
   "execution_count": 4,
   "id": "b0bbd125",
   "metadata": {},
   "outputs": [
    {
     "name": "stdout",
     "output_type": "stream",
     "text": [
      "tensor([[8.9081e-39, 9.1837e-39, 9.6429e-39, 9.8266e-39, 1.0194e-38],\n",
      "        [1.0745e-38, 9.2755e-39, 8.4489e-39, 1.0561e-38, 1.0469e-38],\n",
      "        [8.4490e-39, 1.0102e-38, 9.2755e-39, 9.5511e-39, 8.4490e-39]])\n"
     ]
    }
   ],
   "source": [
    "# empty tensor\n",
    "x = torch.empty((3, 5))\n",
    "print(x)"
   ]
  },
  {
   "cell_type": "code",
   "execution_count": 5,
   "id": "013d99a1",
   "metadata": {},
   "outputs": [
    {
     "data": {
      "text/plain": [
       "tensor([[0.5955, 0.1621],\n",
       "        [0.2852, 0.8156]])"
      ]
     },
     "execution_count": 5,
     "metadata": {},
     "output_type": "execute_result"
    }
   ],
   "source": [
    "x = torch.rand((2, 2))\n",
    "x"
   ]
  },
  {
   "cell_type": "code",
   "execution_count": 7,
   "id": "612ac8dc",
   "metadata": {},
   "outputs": [
    {
     "data": {
      "text/plain": [
       "tensor([[0., 0.],\n",
       "        [0., 0.]])"
      ]
     },
     "execution_count": 7,
     "metadata": {},
     "output_type": "execute_result"
    }
   ],
   "source": [
    "torch.zeros((2, 2))"
   ]
  },
  {
   "cell_type": "code",
   "execution_count": 8,
   "id": "98594524",
   "metadata": {},
   "outputs": [
    {
     "data": {
      "text/plain": [
       "tensor([[1., 1.],\n",
       "        [1., 1.]])"
      ]
     },
     "execution_count": 8,
     "metadata": {},
     "output_type": "execute_result"
    }
   ],
   "source": [
    "torch.ones((2, 2))"
   ]
  },
  {
   "cell_type": "code",
   "execution_count": 10,
   "id": "ce3b949d",
   "metadata": {},
   "outputs": [
    {
     "name": "stdout",
     "output_type": "stream",
     "text": [
      "torch.int32\n"
     ]
    }
   ],
   "source": [
    "x = torch.ones((2, 2), dtype=torch.int)\n",
    "print(x.dtype)"
   ]
  },
  {
   "cell_type": "code",
   "execution_count": 11,
   "id": "d293d7f4",
   "metadata": {},
   "outputs": [
    {
     "data": {
      "text/plain": [
       "torch.Size([2, 2])"
      ]
     },
     "execution_count": 11,
     "metadata": {},
     "output_type": "execute_result"
    }
   ],
   "source": [
    "x.size()"
   ]
  },
  {
   "cell_type": "code",
   "execution_count": 12,
   "id": "e2d8291f",
   "metadata": {},
   "outputs": [
    {
     "data": {
      "text/plain": [
       "tensor([[2.1000, 1.1000],\n",
       "        [4.3000, 5.3000]])"
      ]
     },
     "execution_count": 12,
     "metadata": {},
     "output_type": "execute_result"
    }
   ],
   "source": [
    "# tensor from data\n",
    "x = torch.tensor([\n",
    "    [2.1, 1.1],\n",
    "    [4.3, 5.3]\n",
    "])\n",
    "\n",
    "x"
   ]
  },
  {
   "cell_type": "markdown",
   "id": "e209f7b6",
   "metadata": {},
   "source": [
    "## Basic operations with tensor"
   ]
  },
  {
   "cell_type": "code",
   "execution_count": 13,
   "id": "35dde2f6",
   "metadata": {},
   "outputs": [
    {
     "name": "stdout",
     "output_type": "stream",
     "text": [
      "tensor([[0.0624, 0.4148],\n",
      "        [0.1313, 0.9666]])\n",
      "tensor([[0.1042, 0.9282],\n",
      "        [0.4499, 0.4547]])\n"
     ]
    }
   ],
   "source": [
    "x = torch.rand((2, 2))\n",
    "y = torch.rand((2, 2))\n",
    "\n",
    "print(x)\n",
    "print(y)"
   ]
  },
  {
   "cell_type": "code",
   "execution_count": 14,
   "id": "b5f0ce9d",
   "metadata": {},
   "outputs": [
    {
     "data": {
      "text/plain": [
       "tensor([[0.1666, 1.3430],\n",
       "        [0.5812, 1.4213]])"
      ]
     },
     "execution_count": 14,
     "metadata": {},
     "output_type": "execute_result"
    }
   ],
   "source": [
    "z = x+y\n",
    "z"
   ]
  },
  {
   "cell_type": "code",
   "execution_count": 15,
   "id": "c9a49b0a",
   "metadata": {},
   "outputs": [
    {
     "data": {
      "text/plain": [
       "tensor([[0.1666, 1.3430],\n",
       "        [0.5812, 1.4213]])"
      ]
     },
     "execution_count": 15,
     "metadata": {},
     "output_type": "execute_result"
    }
   ],
   "source": [
    "torch.add(x, y)"
   ]
  },
  {
   "cell_type": "code",
   "execution_count": 16,
   "id": "9d18b1ef",
   "metadata": {},
   "outputs": [
    {
     "data": {
      "text/plain": [
       "tensor([[0.1666, 1.3430],\n",
       "        [0.5812, 1.4213]])"
      ]
     },
     "execution_count": 16,
     "metadata": {},
     "output_type": "execute_result"
    }
   ],
   "source": [
    "# inplace addtion\n",
    "y.add_(x)\n",
    "y"
   ]
  },
  {
   "cell_type": "markdown",
   "id": "5fc8245b",
   "metadata": {},
   "source": [
    "- in pytorch every function with trailing underscore will do an inplace opearation"
   ]
  },
  {
   "cell_type": "code",
   "execution_count": 17,
   "id": "62dd556c",
   "metadata": {},
   "outputs": [
    {
     "data": {
      "text/plain": [
       "tensor([[-0.0624, -0.4148],\n",
       "        [-0.1313, -0.9666]])"
      ]
     },
     "execution_count": 17,
     "metadata": {},
     "output_type": "execute_result"
    }
   ],
   "source": [
    "z - x - y"
   ]
  },
  {
   "cell_type": "code",
   "execution_count": 18,
   "id": "4634948c",
   "metadata": {},
   "outputs": [
    {
     "data": {
      "text/plain": [
       "tensor([[-0.1042, -0.9282],\n",
       "        [-0.4499, -0.4547]])"
      ]
     },
     "execution_count": 18,
     "metadata": {},
     "output_type": "execute_result"
    }
   ],
   "source": [
    "torch.sub(x, y)"
   ]
  },
  {
   "cell_type": "code",
   "execution_count": 19,
   "id": "2cdb9884",
   "metadata": {},
   "outputs": [
    {
     "data": {
      "text/plain": [
       "tensor([[0.0104, 0.5571],\n",
       "        [0.0763, 1.3738]])"
      ]
     },
     "execution_count": 19,
     "metadata": {},
     "output_type": "execute_result"
    }
   ],
   "source": [
    "torch.mul(x, y)"
   ]
  },
  {
   "cell_type": "code",
   "execution_count": 21,
   "id": "ef38ddcd",
   "metadata": {},
   "outputs": [
    {
     "data": {
      "text/plain": [
       "tensor([[0.3747, 0.3089],\n",
       "        [0.2259, 0.6801]])"
      ]
     },
     "execution_count": 21,
     "metadata": {},
     "output_type": "execute_result"
    }
   ],
   "source": [
    "torch.div(x, y)"
   ]
  },
  {
   "cell_type": "markdown",
   "id": "de537063",
   "metadata": {},
   "source": [
    "## Slicing operations"
   ]
  },
  {
   "cell_type": "code",
   "execution_count": 23,
   "id": "6d397001",
   "metadata": {},
   "outputs": [
    {
     "name": "stdout",
     "output_type": "stream",
     "text": [
      "tensor([[0.4212, 0.0831, 0.5512],\n",
      "        [0.9037, 0.2429, 0.9965],\n",
      "        [0.1223, 0.5851, 0.7166],\n",
      "        [0.9507, 0.6425, 0.9382],\n",
      "        [0.5485, 0.4953, 0.3085]])\n"
     ]
    }
   ],
   "source": [
    "x = torch.rand((5, 3))\n",
    "print(x)"
   ]
  },
  {
   "cell_type": "code",
   "execution_count": 24,
   "id": "60f2edb8",
   "metadata": {},
   "outputs": [
    {
     "data": {
      "text/plain": [
       "tensor([0.4212, 0.9037, 0.1223, 0.9507, 0.5485])"
      ]
     },
     "execution_count": 24,
     "metadata": {},
     "output_type": "execute_result"
    }
   ],
   "source": [
    "x[:, 0]"
   ]
  },
  {
   "cell_type": "code",
   "execution_count": 26,
   "id": "1d5a91a9",
   "metadata": {},
   "outputs": [
    {
     "data": {
      "text/plain": [
       "tensor([[0.2429, 0.9965],\n",
       "        [0.5851, 0.7166],\n",
       "        [0.6425, 0.9382],\n",
       "        [0.4953, 0.3085]])"
      ]
     },
     "execution_count": 26,
     "metadata": {},
     "output_type": "execute_result"
    }
   ],
   "source": [
    "x[1:, 1:]"
   ]
  },
  {
   "cell_type": "markdown",
   "id": "99b77009",
   "metadata": {},
   "source": [
    "## Reshaping tensor"
   ]
  },
  {
   "cell_type": "code",
   "execution_count": 28,
   "id": "eb6c2192",
   "metadata": {},
   "outputs": [
    {
     "data": {
      "text/plain": [
       "tensor([[0.6456, 0.9839, 0.9789, 0.0396],\n",
       "        [0.0453, 0.6991, 0.3943, 0.6873],\n",
       "        [0.6816, 0.2868, 0.6217, 0.1185],\n",
       "        [0.3838, 0.8105, 0.1956, 0.4069]])"
      ]
     },
     "execution_count": 28,
     "metadata": {},
     "output_type": "execute_result"
    }
   ],
   "source": [
    "x = torch.rand((4, 4))\n",
    "x"
   ]
  },
  {
   "cell_type": "code",
   "execution_count": 29,
   "id": "f2d7d82d",
   "metadata": {},
   "outputs": [
    {
     "data": {
      "text/plain": [
       "tensor([0.6456, 0.9839, 0.9789, 0.0396, 0.0453, 0.6991, 0.3943, 0.6873, 0.6816,\n",
       "        0.2868, 0.6217, 0.1185, 0.3838, 0.8105, 0.1956, 0.4069])"
      ]
     },
     "execution_count": 29,
     "metadata": {},
     "output_type": "execute_result"
    }
   ],
   "source": [
    "x.view(16)"
   ]
  },
  {
   "cell_type": "code",
   "execution_count": 30,
   "id": "a82ecc8c",
   "metadata": {},
   "outputs": [
    {
     "data": {
      "text/plain": [
       "tensor([0.6456, 0.9839, 0.9789, 0.0396, 0.0453, 0.6991, 0.3943, 0.6873, 0.6816,\n",
       "        0.2868, 0.6217, 0.1185, 0.3838, 0.8105, 0.1956, 0.4069])"
      ]
     },
     "execution_count": 30,
     "metadata": {},
     "output_type": "execute_result"
    }
   ],
   "source": [
    "x.reshape(-1)"
   ]
  },
  {
   "cell_type": "markdown",
   "id": "f18190af",
   "metadata": {},
   "source": [
    "## tensor to numpy conversion"
   ]
  },
  {
   "cell_type": "code",
   "execution_count": 37,
   "id": "537e4cb3",
   "metadata": {},
   "outputs": [
    {
     "data": {
      "text/plain": [
       "tensor([1., 1., 1., 1., 1.])"
      ]
     },
     "execution_count": 37,
     "metadata": {},
     "output_type": "execute_result"
    }
   ],
   "source": [
    "import torch\n",
    "import numpy as np\n",
    "\n",
    "x = torch.ones(5)\n",
    "x"
   ]
  },
  {
   "cell_type": "code",
   "execution_count": 38,
   "id": "02f5a182",
   "metadata": {},
   "outputs": [
    {
     "data": {
      "text/plain": [
       "array([1., 1., 1., 1., 1.], dtype=float32)"
      ]
     },
     "execution_count": 38,
     "metadata": {},
     "output_type": "execute_result"
    }
   ],
   "source": [
    "y = x.numpy()\n",
    "y"
   ]
  },
  {
   "cell_type": "markdown",
   "id": "a07e6ba5",
   "metadata": {},
   "source": [
    "- the converted tensor will share the same memory location\n",
    "    - gpu/cpu"
   ]
  },
  {
   "cell_type": "code",
   "execution_count": 42,
   "id": "992543f5",
   "metadata": {},
   "outputs": [
    {
     "name": "stdout",
     "output_type": "stream",
     "text": [
      "tensor([3., 3., 3., 3., 3.])\n",
      "[1. 1. 1. 1. 1.]\n"
     ]
    }
   ],
   "source": [
    "# example\n",
    "# double the x tensor that will double the y array\n",
    "\n",
    "x += 1\n",
    "print(x)\n",
    "\n",
    "print(y)"
   ]
  },
  {
   "cell_type": "markdown",
   "id": "645cc870",
   "metadata": {},
   "source": [
    "- in this case it is not in the same memory location"
   ]
  },
  {
   "cell_type": "code",
   "execution_count": 40,
   "id": "6d1a2ef4",
   "metadata": {},
   "outputs": [
    {
     "name": "stdout",
     "output_type": "stream",
     "text": [
      "[1. 1. 1. 1. 1.]\n",
      "tensor([1., 1., 1., 1., 1.], dtype=torch.float64)\n"
     ]
    }
   ],
   "source": [
    "a = np.ones(5)\n",
    "print(a)\n",
    "b = torch.from_numpy(a)\n",
    "print(b)"
   ]
  },
  {
   "cell_type": "code",
   "execution_count": 41,
   "id": "19715b0b",
   "metadata": {},
   "outputs": [
    {
     "name": "stdout",
     "output_type": "stream",
     "text": [
      "[2. 2. 2. 2. 2.]\n",
      "tensor([2., 2., 2., 2., 2.], dtype=torch.float64)\n"
     ]
    }
   ],
   "source": [
    "a += 1\n",
    "\n",
    "print(a)\n",
    "print(b)"
   ]
  },
  {
   "cell_type": "markdown",
   "id": "b5d230e8",
   "metadata": {},
   "source": [
    "- here the elements share the meomory location"
   ]
  },
  {
   "cell_type": "code",
   "execution_count": 45,
   "id": "93091718",
   "metadata": {},
   "outputs": [],
   "source": [
    "# for GPU operations\n",
    "if torch.cuda.is_available():\n",
    "    device = torch.device('cuda')\n",
    "    \n",
    "    x = torch.ones(5, device=device) # create a tensor in the gpu\n",
    "    \n",
    "    y = torch.ones(5)\n",
    "    y = y.to(device) # allocate tenor y to gpu\n",
    "    \n",
    "    # to move tensor back to cpu\n",
    "    y = y.to('cpu')"
   ]
  },
  {
   "cell_type": "markdown",
   "id": "c02b3051",
   "metadata": {},
   "source": [
    "## requires_grad\n",
    "- specify gradient need to be calculated"
   ]
  },
  {
   "cell_type": "code",
   "execution_count": 48,
   "id": "730b33bf",
   "metadata": {},
   "outputs": [
    {
     "data": {
      "text/plain": [
       "tensor([1., 1., 1., 1., 1.], requires_grad=True)"
      ]
     },
     "execution_count": 48,
     "metadata": {},
     "output_type": "execute_result"
    }
   ],
   "source": [
    "x = torch.ones(5, requires_grad=True)\n",
    "x"
   ]
  },
  {
   "cell_type": "code",
   "execution_count": null,
   "id": "a38975b8",
   "metadata": {},
   "outputs": [],
   "source": []
  }
 ],
 "metadata": {
  "kernelspec": {
   "display_name": "Python 3",
   "language": "python",
   "name": "python3"
  },
  "language_info": {
   "codemirror_mode": {
    "name": "ipython",
    "version": 3
   },
   "file_extension": ".py",
   "mimetype": "text/x-python",
   "name": "python",
   "nbconvert_exporter": "python",
   "pygments_lexer": "ipython3",
   "version": "3.6.2"
  }
 },
 "nbformat": 4,
 "nbformat_minor": 5
}
